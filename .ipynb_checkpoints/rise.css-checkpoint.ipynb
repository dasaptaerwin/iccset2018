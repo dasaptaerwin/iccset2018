{
 "cells": [
  {
   "cell_type": "code",
   "execution_count": null,
   "metadata": {
    "collapsed": true
   },
   "outputs": [],
   "source": [
    "/*\n",
    " * this is loaded only because it's named rise.css in the current directory\n",
    " */\n",
    "\n",
    " /* ***** just a stupid setting that you cannot miss ***** */\n",
    " div.cell.code_cell.rendered {\n",
    "     border-radius: 0px 0px 30px 0px;\n",
    " }\n",
    "\n",
    "div.input_area {\n",
    "    border-radius: 0px 0px 25px 0px;\n",
    "}"
   ]
  }
 ],
 "metadata": {
  "anaconda-cloud": {},
  "kernelspec": {
   "display_name": "Python [default]",
   "language": "python",
   "name": "python3"
  },
  "language_info": {
   "codemirror_mode": {
    "name": "ipython",
    "version": 3
   },
   "file_extension": ".py",
   "mimetype": "text/x-python",
   "name": "python",
   "nbconvert_exporter": "python",
   "pygments_lexer": "ipython3",
   "version": "3.4.5"
  }
 },
 "nbformat": 4,
 "nbformat_minor": 2
}
